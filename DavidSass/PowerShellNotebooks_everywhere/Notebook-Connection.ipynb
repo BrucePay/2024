{
 "cells": [
  {
   "cell_type": "markdown",
   "metadata": {},
   "source": [
    "### You can set the prerequisites or required modules"
   ]
  },
  {
   "cell_type": "code",
   "execution_count": 2,
   "metadata": {
    "dotnet_interactive": {
     "language": "pwsh"
    },
    "polyglot_notebook": {
     "kernelName": "pwsh"
    },
    "vscode": {
     "languageId": "polyglot-notebook"
    }
   },
   "outputs": [],
   "source": [
    "#Requires -modules Az.Accounts\n",
    "\n",
    "Import-module Az.Accounts"
   ]
  },
  {
   "cell_type": "markdown",
   "metadata": {},
   "source": [
    "### You can set default variables etc. and use / share them together with the notebook"
   ]
  },
  {
   "cell_type": "code",
   "execution_count": 4,
   "metadata": {
    "dotnet_interactive": {
     "language": "pwsh"
    },
    "polyglot_notebook": {
     "kernelName": "pwsh"
    },
    "vscode": {
     "languageId": "polyglot-notebook"
    }
   },
   "outputs": [],
   "source": [
    "$OutputEncoding = [Console]::OutputEncoding = [Console]::InputEncoding = [System.Text.UTF8Encoding]::new()\n",
    "[Net.ServicePointManager]::SecurityProtocol = [Net.SecurityProtocolType]::Tls12\n",
    "\n",
    "$env:PSModulePath = ( ($env:PSModulePath.Split([System.IO.Path]::PathSeparator)) + \"$pwd/Modules\" ) -join [System.IO.Path]::PathSeparator\n",
    "$env:PSModulePath.Split([System.IO.Path]::PathSeparator)\n",
    "\n",
    "$ProgressPreference = 'SilentlyContinue'\n",
    "\n",
    "$PSDefaultParameterValues[\"Out-Default:OutVariable\"] = \"__\"\n",
    "$PSDefaultParameterValues[\"Install-Module:Scope\"] = \"CurrentUser\"\n",
    "$PSDefaultParameterValues[\"Install-Module:Repository\"] = \"PSGallery\""
   ]
  },
  {
   "cell_type": "code",
   "execution_count": 3,
   "metadata": {
    "dotnet_interactive": {
     "language": "pwsh"
    },
    "polyglot_notebook": {
     "kernelName": "pwsh"
    },
    "vscode": {
     "languageId": "polyglot-notebook"
    }
   },
   "outputs": [
    {
     "name": "stdout",
     "output_type": "stream",
     "text": [
      "\n",
      "\u001b[32;1mModuleType\u001b[0m\u001b[32;1m Version   \u001b[0m \u001b[32;1;3mPreRelease\u001b[0m\u001b[32;1m Name                               \u001b[0m\u001b[32;1m ExportedCommands\u001b[0m\n",
      "\u001b[32;1m----------\u001b[0m \u001b[32;1m-------   \u001b[0m \u001b[32;1m----------\u001b[0m \u001b[32;1m----                               \u001b[0m \u001b[32;1m----------------\u001b[0m\n",
      "Script     3.0.0                 Az.Accounts                         {Add-AzEnvironment, Clear-AzC…\n",
      "Manifest   7.0.0.0               Microsoft.PowerShell.Management     {Add-Content, Clear-Content, …\n",
      "Manifest   7.0.0.0               Microsoft.PowerShell.Utility        {Add-Member, Add-Type, Clear-…\n",
      "\n"
     ]
    }
   ],
   "source": [
    "Get-Module"
   ]
  }
 ],
 "metadata": {
  "kernelspec": {
   "display_name": ".NET (C#)",
   "language": "C#",
   "name": ".net-csharp"
  },
  "language_info": {
   "name": "csharp"
  },
  "polyglot_notebook": {
   "kernelInfo": {
    "defaultKernelName": "csharp",
    "items": [
     {
      "aliases": [],
      "name": "csharp"
     }
    ]
   }
  }
 },
 "nbformat": 4,
 "nbformat_minor": 2
}
